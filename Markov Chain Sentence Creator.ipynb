{
 "cells": [
  {
   "cell_type": "markdown",
   "metadata": {},
   "source": [
    "# Input Data"
   ]
  },
  {
   "cell_type": "markdown",
   "metadata": {},
   "source": [
    "#### This model uses vocabulary synonyms and example sentence for each word to generate random sentences"
   ]
  },
  {
   "cell_type": "markdown",
   "metadata": {},
   "source": [
    "#### Vocabulary words synonyms in this example include - upbraid, chastise, berate, rebuke, scold, reprove, reproach, lambast, censure, excoriate, admonish"
   ]
  },
  {
   "cell_type": "code",
   "execution_count": 1,
   "metadata": {},
   "outputs": [],
   "source": [
    "# Example sentences taken from a Google search of the word\n",
    "sentence_data = [\n",
    "    \"he was upbraided for his slovenly appearance\",\n",
    "    \"he chastised his colleagues for their laziness\",\n",
    "    \"his mother came out and berated me for raising my voice\",\n",
    "    \"she had rebuked him for drinking too much\",\n",
    "    \"Mom took Anna away, scolding her for her bad behavior\",\n",
    "    \"he was reproved for obscenity\",\n",
    "    \"his wife reproached him with cowardice\",\n",
    "    \"they lambasted the report as a gross distortion of the truth\",\n",
    "    \"a judge was censured in 1983 for a variety of types of injudicious conduct\",\n",
    "    \"the papers that had been excoriating him were now lauding him\",\n",
    "    \"she admonished me for appearing at breakfast unshaven\"\n",
    "]"
   ]
  },
  {
   "cell_type": "markdown",
   "metadata": {},
   "source": [
    "# Markov Chain Stochastic Model"
   ]
  },
  {
   "cell_type": "code",
   "execution_count": 2,
   "metadata": {},
   "outputs": [],
   "source": [
    "import random"
   ]
  },
  {
   "cell_type": "code",
   "execution_count": 3,
   "metadata": {},
   "outputs": [],
   "source": [
    "def markov_model():\n",
    "    \n",
    "    # Create Markov Chain Model\n",
    "    model = {}\n",
    "    for sentence in sentence_data:\n",
    "        sentence = sentence.lower().split()\n",
    "\n",
    "        for i, word in enumerate(sentence):\n",
    "            if i == len(sentence) - 1:   \n",
    "                model['end_sentence'] = model.get('end_sentence', []) + [word]\n",
    "                \n",
    "            else:    \n",
    "                if i == 0:\n",
    "                    model['start_sentence'] = model.get('start_sentence', []) + [word]\n",
    "                    \n",
    "                model[word] = model.get(word, []) + [sentence[i+1]] \n",
    "    \n",
    "    # Generate the sentence from the model dictionary \n",
    "    new_sentences = []\n",
    "    while True:\n",
    "        if not new_sentences:\n",
    "            words = model['start_sentence']\n",
    "            \n",
    "        elif new_sentences[-1] in model['end_sentence']:\n",
    "            break\n",
    "\n",
    "        else:\n",
    "            words = model[new_sentences[-1]]\n",
    "\n",
    "        new_sentences.append(random.choice(words))\n",
    "\n",
    "    return(print(' '.join(new_sentences).capitalize() + '.'))"
   ]
  },
  {
   "cell_type": "markdown",
   "metadata": {},
   "source": [
    "# Example Sentence Output"
   ]
  },
  {
   "cell_type": "code",
   "execution_count": 4,
   "metadata": {},
   "outputs": [
    {
     "name": "stdout",
     "output_type": "stream",
     "text": [
      "He chastised his colleagues for their laziness.\n",
      "He was reproved for appearing at breakfast unshaven.\n",
      "She admonished me for her bad behavior.\n",
      "His mother came out and berated me for their laziness.\n",
      "His colleagues for her for her for obscenity.\n",
      "His wife reproached him.\n",
      "A judge was upbraided for a judge was censured in 1983 for obscenity.\n",
      "He chastised his slovenly appearance.\n",
      "They lambasted the report as a variety of the papers that had been excoriating him.\n",
      "They lambasted the report as a variety of the report as a variety of types of the papers that had rebuked him.\n",
      "He was censured in 1983 for raising my voice.\n",
      "He was reproved for raising my voice.\n",
      "He was reproved for her bad behavior.\n",
      "She had been excoriating him.\n",
      "She had been excoriating him.\n",
      "They lambasted the report as a gross distortion of injudicious conduct.\n",
      "They lambasted the truth.\n",
      "The report as a gross distortion of types of injudicious conduct.\n",
      "They lambasted the report as a variety of injudicious conduct.\n",
      "He chastised his colleagues for obscenity.\n",
      "The papers that had been excoriating him.\n",
      "His colleagues for appearing at breakfast unshaven.\n",
      "He was upbraided for drinking too much.\n",
      "His colleagues for obscenity.\n",
      "He chastised his slovenly appearance.\n",
      "A variety of injudicious conduct.\n",
      "She had been excoriating him.\n",
      "She admonished me for obscenity.\n",
      "His colleagues for a variety of types of injudicious conduct.\n",
      "They lambasted the truth.\n",
      "He chastised his colleagues for his wife reproached him.\n",
      "He was upbraided for drinking too much.\n",
      "He was reproved for his mother came out and berated me for a variety of types of types of injudicious conduct.\n",
      "He was upbraided for a gross distortion of injudicious conduct.\n",
      "They lambasted the report as a variety of the report as a judge was upbraided for raising my voice.\n",
      "The report as a gross distortion of types of the papers that had rebuked him.\n",
      "They lambasted the papers that had been excoriating him.\n",
      "His wife reproached him.\n",
      "He was reproved for their laziness.\n",
      "His slovenly appearance.\n",
      "His colleagues for obscenity.\n",
      "He was upbraided for drinking too much.\n",
      "Mom took anna away, scolding her for his mother came out and berated me for obscenity.\n",
      "They lambasted the report as a variety of the papers that had rebuked him.\n",
      "She had been excoriating him.\n",
      "She had rebuked him.\n",
      "He was censured in 1983 for her for drinking too much.\n",
      "A judge was reproved for a variety of the papers that had been excoriating him.\n",
      "He chastised his wife reproached him.\n",
      "His mother came out and berated me for obscenity.\n"
     ]
    }
   ],
   "source": [
    "for s in range(50):\n",
    "    markov_model()"
   ]
  }
 ],
 "metadata": {
  "kernelspec": {
   "display_name": "Python 3",
   "language": "python",
   "name": "python3"
  },
  "language_info": {
   "codemirror_mode": {
    "name": "ipython",
    "version": 3
   },
   "file_extension": ".py",
   "mimetype": "text/x-python",
   "name": "python",
   "nbconvert_exporter": "python",
   "pygments_lexer": "ipython3",
   "version": "3.7.4"
  }
 },
 "nbformat": 4,
 "nbformat_minor": 2
}
