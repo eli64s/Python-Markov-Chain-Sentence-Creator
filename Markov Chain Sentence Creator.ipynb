{
 "cells": [
  {
   "cell_type": "markdown",
   "metadata": {},
   "source": [
    "# Sentence Generator Using a Markov Chain Stochastic Model"
   ]
  },
  {
   "cell_type": "markdown",
   "metadata": {},
   "source": [
    "This notebook generates random sentences for a given group of vocabulary word synonyms utilizing a Markov chain model.\n",
    "\n",
    "This script includes:\n",
    "- User defined vocabulary word that is used to generate synonyms via the Natural Language Toolkit module\n",
    "- Example sentences of each synonym are extracted from an API \n",
    "- Function for the Markov chain model \n",
    "- Generated Sentences\n",
    "\n",
    "I hope to improve this model over time by refining the data inputs for the model, and eventually look to include this script as a module in my Vocabulary Flashcards Django Web-Application!"
   ]
  },
  {
   "cell_type": "markdown",
   "metadata": {},
   "source": [
    "# Create the Model's Input Data"
   ]
  },
  {
   "cell_type": "markdown",
   "metadata": {},
   "source": [
    "#### Create vocabulary synonyms using Natural language Toolkit "
   ]
  },
  {
   "cell_type": "code",
   "execution_count": 1,
   "metadata": {},
   "outputs": [
    {
     "name": "stderr",
     "output_type": "stream",
     "text": [
      "[nltk_data] Downloading package wordnet to\n",
      "[nltk_data]     C:\\Users\\Eli\\AppData\\Roaming\\nltk_data...\n",
      "[nltk_data]   Package wordnet is already up-to-date!\n"
     ]
    },
    {
     "name": "stdout",
     "output_type": "stream",
     "text": [
      "{'take_to_task', 'lecture', 'reprehension', 'rag', 'call_down', 'call_on_the_carpet', 'have_words', 'berate', 'remonstrate', 'reproof', 'rebuke', 'censure', 'reprimand', 'chew_up', 'reproval', 'trounce', 'lambaste', 'scold', 'bawl_out', 'lambast', 'dress_down', 'chide', 'criminate', 'chew_out', 'jaw'}\n"
     ]
    }
   ],
   "source": [
    "import nltk \n",
    "nltk.download('wordnet')\n",
    "from nltk.corpus import wordnet \n",
    "\n",
    "\n",
    "vocab_word = 'reprimand' # User define vocabulary word \n",
    "synonym_data = []        # List for synonyms of the vocabulary word\n",
    "  \n",
    "for synonym in wordnet.synsets(vocab_word):\n",
    "    \n",
    "    # Extract the synonym word and append to list\n",
    "    for l in synonym.lemmas(): \n",
    "        synonym_data.append(l.name()) \n",
    "  \n",
    "print(set(synonym_data))\n",
    "synonym_data = list(set(synonym_data))"
   ]
  },
  {
   "cell_type": "markdown",
   "metadata": {},
   "source": [
    "#### Extract synonyms used in sentences from vocabulary API "
   ]
  },
  {
   "cell_type": "code",
   "execution_count": 2,
   "metadata": {},
   "outputs": [],
   "source": [
    "import requests\n",
    "\n",
    "# \"Fiction\", \"Arts / Culture\", \"News\", \"Business\", \"Sports\", \"Science / Med\", \"Technology\"\n",
    "domains = [None, \"F\", \"A\", \"N\", \"B\", \"S\", \"M\", \"T\"]\n",
    "link = \"https://corpus.vocabulary.com/api/1.0/examples.json\"\n",
    "\n",
    "sentence_data = []\n",
    "for word in synonym_data:\n",
    "\n",
    "    # Get example sentences directly from json, passing a word, domain and max results\n",
    "    response = requests.get(link, params={'query': word, 'domain': domains[6], 'maxResults': 25})\n",
    " \n",
    "    # Check if response is valid and append sentences to list\n",
    "    if response.ok:\n",
    "        for sentence in response.json()['result']['sentences']:\n",
    "            sentence_data.append(sentence['sentence'][:-1])     # Remove period at the end of sentence"
   ]
  },
  {
   "cell_type": "code",
   "execution_count": 3,
   "metadata": {},
   "outputs": [
    {
     "name": "stdout",
     "output_type": "stream",
     "text": [
      "But they also offer forums for lambasting officials and reporting unrest or official abuses, and Beijing is worried about their potential to erode the party's authority and stoke popular discontent, even protest\n",
      "Brown, at the event, chided Republicans in the U.S\n",
      "To his surprise, he is soon reprimanded for offending a female colleague\n",
      "Scientists typically present their findings to groups of other scientists at lab meetings, seminars in their departments, during invited lectures to other academic institutions, and at national and international meetings and symposia\n",
      "Pardridge also questioned the methods used by Roche, characterizing them as “non-quantitative measures of brain uptake” and lambasting the study’s use of fluorescent microscopy as  “a poor measure to quantify brain uptake.\n"
     ]
    }
   ],
   "source": [
    "# Example sentences from the list created above!\n",
    "import random \n",
    "for s in range(5): print(random.choice(sentence_data))"
   ]
  },
  {
   "cell_type": "markdown",
   "metadata": {},
   "source": [
    "The cell below includes hard coded sentences for testing purposes, using the synonyms:\n",
    "- upbraid, chastise, berate, rebuke, scold, reprove, reproach, lambast, censure, excoriate, admonish"
   ]
  },
  {
   "cell_type": "code",
   "execution_count": 4,
   "metadata": {},
   "outputs": [],
   "source": [
    "# Example sentences taken from a Google search of the word\n",
    "sentence_data = [\n",
    "    \"he was upbraided for his slovenly appearance\",\n",
    "    \"he chastised his colleagues for their laziness\",\n",
    "    \"his mother came out and berated me for raising my voice\",\n",
    "    \"she had rebuked him for drinking too much\",\n",
    "    \"Mom took Anna away, scolding her for her bad behavior\",\n",
    "    \"he was reproved for obscenity\",\n",
    "    \"his wife reproached him with cowardice\",\n",
    "    \"they lambasted the report as a gross distortion of the truth\",\n",
    "    \"a judge was censured in 1983 for a variety of types of injudicious conduct\",\n",
    "    \"the papers that had been excoriating him were now lauding him\",\n",
    "    \"she admonished me for appearing at breakfast unshaven\"\n",
    "]"
   ]
  },
  {
   "cell_type": "markdown",
   "metadata": {},
   "source": [
    "# Markov Chain Stochastic Model"
   ]
  },
  {
   "cell_type": "code",
   "execution_count": 5,
   "metadata": {},
   "outputs": [],
   "source": [
    "def markov_model():\n",
    "    \n",
    "    # Create Markov Chain Model\n",
    "    model = {}\n",
    "    for sentence in sentence_data:\n",
    "        sentence = sentence.lower().split()\n",
    "\n",
    "        for i, word in enumerate(sentence):\n",
    "            if i == len(sentence) - 1:   \n",
    "                model['end_sentence'] = model.get('end_sentence', []) + [word]\n",
    "                \n",
    "            else:    \n",
    "                if i == 0:\n",
    "                    model['start_sentence'] = model.get('start_sentence', []) + [word]\n",
    "                    \n",
    "                model[word] = model.get(word, []) + [sentence[i+1]] \n",
    "    \n",
    "    # Generate the sentence from the model dictionary \n",
    "    new_sentences = []\n",
    "    while True:\n",
    "        if not new_sentences:\n",
    "            words = model['start_sentence']\n",
    "            \n",
    "        elif new_sentences[-1] in model['end_sentence']:\n",
    "            break\n",
    "\n",
    "        else:\n",
    "            words = model[new_sentences[-1]]\n",
    "\n",
    "        new_sentences.append(random.choice(words))\n",
    "\n",
    "    return(print(' '.join(new_sentences).capitalize() + '.'))"
   ]
  },
  {
   "cell_type": "markdown",
   "metadata": {},
   "source": [
    "# Generate Sentences"
   ]
  },
  {
   "cell_type": "code",
   "execution_count": 6,
   "metadata": {},
   "outputs": [
    {
     "name": "stdout",
     "output_type": "stream",
     "text": [
      "His mother came out and berated me for their laziness.\n",
      "His slovenly appearance.\n",
      "He chastised his slovenly appearance.\n",
      "The report as a variety of types of types of injudicious conduct.\n",
      "They lambasted the truth.\n",
      "His slovenly appearance.\n",
      "He was upbraided for drinking too much.\n",
      "She admonished me for her for drinking too much.\n",
      "His wife reproached him.\n",
      "He was reproved for a gross distortion of the truth.\n",
      "He was reproved for a gross distortion of types of the report as a gross distortion of injudicious conduct.\n",
      "He chastised his slovenly appearance.\n",
      "He was censured in 1983 for her bad behavior.\n",
      "She had rebuked him.\n",
      "The truth.\n",
      "She had rebuked him.\n",
      "His slovenly appearance.\n",
      "A variety of injudicious conduct.\n",
      "She admonished me for a judge was upbraided for appearing at breakfast unshaven.\n",
      "She admonished me for drinking too much.\n",
      "They lambasted the truth.\n",
      "The report as a judge was censured in 1983 for appearing at breakfast unshaven.\n",
      "He was upbraided for her bad behavior.\n",
      "A judge was reproved for raising my voice.\n",
      "A variety of types of injudicious conduct.\n"
     ]
    }
   ],
   "source": [
    "for s in range(25):\n",
    "    markov_model()"
   ]
  },
  {
   "cell_type": "code",
   "execution_count": null,
   "metadata": {},
   "outputs": [],
   "source": []
  }
 ],
 "metadata": {
  "kernelspec": {
   "display_name": "Python 3",
   "language": "python",
   "name": "python3"
  },
  "language_info": {
   "codemirror_mode": {
    "name": "ipython",
    "version": 3
   },
   "file_extension": ".py",
   "mimetype": "text/x-python",
   "name": "python",
   "nbconvert_exporter": "python",
   "pygments_lexer": "ipython3",
   "version": "3.7.4"
  }
 },
 "nbformat": 4,
 "nbformat_minor": 2
}
